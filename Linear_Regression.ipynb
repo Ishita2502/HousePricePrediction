{
  "nbformat": 4,
  "nbformat_minor": 0,
  "metadata": {
    "colab": {
      "provenance": [],
      "include_colab_link": true
    },
    "kernelspec": {
      "name": "python3",
      "display_name": "Python 3"
    },
    "language_info": {
      "name": "python"
    }
  },
  "cells": [
    {
      "cell_type": "markdown",
      "metadata": {
        "id": "view-in-github",
        "colab_type": "text"
      },
      "source": [
        "<a href=\"https://colab.research.google.com/github/Ishita2502/HousePricePrediction/blob/main/Linear_Regression.ipynb\" target=\"_parent\"><img src=\"https://colab.research.google.com/assets/colab-badge.svg\" alt=\"Open In Colab\"/></a>"
      ]
    },
    {
      "cell_type": "code",
      "metadata": {
        "colab": {
          "base_uri": "https://localhost:8080/"
        },
        "id": "YdggEVRBYkM_",
        "outputId": "f2f3c89a-415f-4ce5-ceba-31ded8e9ae0b"
      },
      "source": [
        "from google.colab import drive\n",
        "drive.mount('/gdrive')"
      ],
      "execution_count": null,
      "outputs": [
        {
          "output_type": "stream",
          "name": "stdout",
          "text": [
            "Mounted at /gdrive\n"
          ]
        }
      ]
    },
    {
      "cell_type": "code",
      "metadata": {
        "id": "1Y3BhmKva3oL"
      },
      "source": [
        "import numpy as np\n",
        "import pandas as pd\n",
        "import matplotlib.pyplot as plt\n",
        "%matplotlib inline"
      ],
      "execution_count": null,
      "outputs": []
    },
    {
      "cell_type": "code",
      "metadata": {
        "id": "Lpc4zw6LcEw6"
      },
      "source": [
        "path = '/gdrive/My Drive/Online MLCC : Oct 2021/Data/Classwork/'"
      ],
      "execution_count": null,
      "outputs": []
    },
    {
      "cell_type": "code",
      "metadata": {
        "colab": {
          "base_uri": "https://localhost:8080/",
          "height": 203
        },
        "id": "D1cZK0oYcogq",
        "outputId": "e074a173-4a05-4aac-b23a-fe9a70a06f72"
      },
      "source": [
        "raw_data = pd.read_csv(path + 'Chennai_house_univariate.csv')\n",
        "raw_data.head()"
      ],
      "execution_count": null,
      "outputs": [
        {
          "output_type": "execute_result",
          "data": {
            "text/html": [
              "<div>\n",
              "<style scoped>\n",
              "    .dataframe tbody tr th:only-of-type {\n",
              "        vertical-align: middle;\n",
              "    }\n",
              "\n",
              "    .dataframe tbody tr th {\n",
              "        vertical-align: top;\n",
              "    }\n",
              "\n",
              "    .dataframe thead th {\n",
              "        text-align: right;\n",
              "    }\n",
              "</style>\n",
              "<table border=\"1\" class=\"dataframe\">\n",
              "  <thead>\n",
              "    <tr style=\"text-align: right;\">\n",
              "      <th></th>\n",
              "      <th>Size</th>\n",
              "      <th>Price</th>\n",
              "    </tr>\n",
              "  </thead>\n",
              "  <tbody>\n",
              "    <tr>\n",
              "      <th>0</th>\n",
              "      <td>721.82</td>\n",
              "      <td>1480000</td>\n",
              "    </tr>\n",
              "    <tr>\n",
              "      <th>1</th>\n",
              "      <td>543.69</td>\n",
              "      <td>830000</td>\n",
              "    </tr>\n",
              "    <tr>\n",
              "      <th>2</th>\n",
              "      <td>851.72</td>\n",
              "      <td>2060000</td>\n",
              "    </tr>\n",
              "    <tr>\n",
              "      <th>3</th>\n",
              "      <td>931.02</td>\n",
              "      <td>2410000</td>\n",
              "    </tr>\n",
              "    <tr>\n",
              "      <th>4</th>\n",
              "      <td>552.77</td>\n",
              "      <td>860000</td>\n",
              "    </tr>\n",
              "  </tbody>\n",
              "</table>\n",
              "</div>"
            ],
            "text/plain": [
              "     Size    Price\n",
              "0  721.82  1480000\n",
              "1  543.69   830000\n",
              "2  851.72  2060000\n",
              "3  931.02  2410000\n",
              "4  552.77   860000"
            ]
          },
          "metadata": {},
          "execution_count": 4
        }
      ]
    },
    {
      "cell_type": "code",
      "metadata": {
        "colab": {
          "base_uri": "https://localhost:8080/",
          "height": 307
        },
        "id": "U9IieFp4hckP",
        "outputId": "f7e7972b-0f2d-4594-f25d-7516f91caea8"
      },
      "source": [
        "raw_data.plot(kind='scatter', x='Size', y='Price',figsize=(8,4))"
      ],
      "execution_count": null,
      "outputs": [
        {
          "output_type": "execute_result",
          "data": {
            "text/plain": [
              "<matplotlib.axes._subplots.AxesSubplot at 0x7fce59a61750>"
            ]
          },
          "metadata": {},
          "execution_count": 5
        },
        {
          "output_type": "display_data",
          "data": {
            "image/png": "[encoded data removed]",
            "text/plain": [
              "<Figure size 576x288 with 1 Axes>"
            ]
          },
          "metadata": {
            "needs_background": "light"
          }
        }
      ]
    },
    {
      "cell_type": "code",
      "metadata": {
        "colab": {
          "base_uri": "https://localhost:8080/",
          "height": 110
        },
        "id": "hsEKBDzGoK6Y",
        "outputId": "56cb3186-34f9-477c-b629-ec7601f99fd0"
      },
      "source": [
        "data= (raw_data-raw_data.mean())/(raw_data.max()-raw_data.min()) # Data preprocess\n",
        "data.head(2)\n"
      ],
      "execution_count": null,
      "outputs": [
        {
          "output_type": "execute_result",
          "data": {
            "text/html": [
              "<div>\n",
              "<style scoped>\n",
              "    .dataframe tbody tr th:only-of-type {\n",
              "        vertical-align: middle;\n",
              "    }\n",
              "\n",
              "    .dataframe tbody tr th {\n",
              "        vertical-align: top;\n",
              "    }\n",
              "\n",
              "    .dataframe thead th {\n",
              "        text-align: right;\n",
              "    }\n",
              "</style>\n",
              "<table border=\"1\" class=\"dataframe\">\n",
              "  <thead>\n",
              "    <tr style=\"text-align: right;\">\n",
              "      <th></th>\n",
              "      <th>Size</th>\n",
              "      <th>Price</th>\n",
              "    </tr>\n",
              "  </thead>\n",
              "  <tbody>\n",
              "    <tr>\n",
              "      <th>0</th>\n",
              "      <td>-0.054820</td>\n",
              "      <td>-0.063773</td>\n",
              "    </tr>\n",
              "    <tr>\n",
              "      <th>1</th>\n",
              "      <td>-0.158528</td>\n",
              "      <td>-0.144922</td>\n",
              "    </tr>\n",
              "  </tbody>\n",
              "</table>\n",
              "</div>"
            ],
            "text/plain": [
              "       Size     Price\n",
              "0 -0.054820 -0.063773\n",
              "1 -0.158528 -0.144922"
            ]
          },
          "metadata": {},
          "execution_count": 6
        }
      ]
    },
    {
      "cell_type": "code",
      "metadata": {
        "colab": {
          "base_uri": "https://localhost:8080/",
          "height": 296
        },
        "id": "3YluiV6pqOQm",
        "outputId": "a5074654-1794-406f-dbec-4e9f94a9f492"
      },
      "source": [
        "data.plot(kind='scatter',x='Size',y='Price',figsize=(6,4))"
      ],
      "execution_count": null,
      "outputs": [
        {
          "output_type": "execute_result",
          "data": {
            "text/plain": [
              "<matplotlib.axes._subplots.AxesSubplot at 0x7fce58213950>"
            ]
          },
          "metadata": {},
          "execution_count": 7
        },
        {
          "output_type": "display_data",
          "data": {
            "image/png": "[encoded data removed]",
            "text/plain": [
              "<Figure size 432x288 with 1 Axes>"
            ]
          },
          "metadata": {
            "needs_background": "light"
          }
        }
      ]
    },
    {
      "cell_type": "code",
      "metadata": {
        "colab": {
          "base_uri": "https://localhost:8080/"
        },
        "id": "Qxu19CaRyqYD",
        "outputId": "a528f3f1-72b4-4794-d86b-121f221736a2"
      },
      "source": [
        "data.shape"
      ],
      "execution_count": null,
      "outputs": [
        {
          "output_type": "execute_result",
          "data": {
            "text/plain": [
              "(97, 2)"
            ]
          },
          "metadata": {},
          "execution_count": 8
        }
      ]
    },
    {
      "cell_type": "code",
      "metadata": {
        "colab": {
          "base_uri": "https://localhost:8080/",
          "height": 203
        },
        "id": "2MabMAgM4EvY",
        "outputId": "6b8cc45d-bca6-44aa-95b5-0f3757e42cbf"
      },
      "source": [
        "data.insert(0,'Bias',1)\n",
        "data.head()"
      ],
      "execution_count": null,
      "outputs": [
        {
          "output_type": "execute_result",
          "data": {
            "text/html": [
              "<div>\n",
              "<style scoped>\n",
              "    .dataframe tbody tr th:only-of-type {\n",
              "        vertical-align: middle;\n",
              "    }\n",
              "\n",
              "    .dataframe tbody tr th {\n",
              "        vertical-align: top;\n",
              "    }\n",
              "\n",
              "    .dataframe thead th {\n",
              "        text-align: right;\n",
              "    }\n",
              "</style>\n",
              "<table border=\"1\" class=\"dataframe\">\n",
              "  <thead>\n",
              "    <tr style=\"text-align: right;\">\n",
              "      <th></th>\n",
              "      <th>Bias</th>\n",
              "      <th>Size</th>\n",
              "      <th>Price</th>\n",
              "    </tr>\n",
              "  </thead>\n",
              "  <tbody>\n",
              "    <tr>\n",
              "      <th>0</th>\n",
              "      <td>1</td>\n",
              "      <td>-0.054820</td>\n",
              "      <td>-0.063773</td>\n",
              "    </tr>\n",
              "    <tr>\n",
              "      <th>1</th>\n",
              "      <td>1</td>\n",
              "      <td>-0.158528</td>\n",
              "      <td>-0.144922</td>\n",
              "    </tr>\n",
              "    <tr>\n",
              "      <th>2</th>\n",
              "      <td>1</td>\n",
              "      <td>0.020808</td>\n",
              "      <td>0.008636</td>\n",
              "    </tr>\n",
              "    <tr>\n",
              "      <th>3</th>\n",
              "      <td>1</td>\n",
              "      <td>0.066977</td>\n",
              "      <td>0.052331</td>\n",
              "    </tr>\n",
              "    <tr>\n",
              "      <th>4</th>\n",
              "      <td>1</td>\n",
              "      <td>-0.153242</td>\n",
              "      <td>-0.141177</td>\n",
              "    </tr>\n",
              "  </tbody>\n",
              "</table>\n",
              "</div>"
            ],
            "text/plain": [
              "   Bias      Size     Price\n",
              "0     1 -0.054820 -0.063773\n",
              "1     1 -0.158528 -0.144922\n",
              "2     1  0.020808  0.008636\n",
              "3     1  0.066977  0.052331\n",
              "4     1 -0.153242 -0.141177"
            ]
          },
          "metadata": {},
          "execution_count": 9
        }
      ]
    },
    {
      "cell_type": "code",
      "metadata": {
        "colab": {
          "base_uri": "https://localhost:8080/"
        },
        "id": "O4tlpKMq4lJe",
        "outputId": "22309528-e88f-4207-dcee-05a6c949ad62"
      },
      "source": [
        "cols=data.shape[1]\n",
        "print(cols)"
      ],
      "execution_count": null,
      "outputs": [
        {
          "output_type": "stream",
          "name": "stdout",
          "text": [
            "3\n"
          ]
        }
      ]
    },
    {
      "cell_type": "code",
      "metadata": {
        "id": "lhXvLlkQ4-aZ"
      },
      "source": [
        "x=data.iloc[:,0:cols-1]  # 0:2 --> 0,1 column"
      ],
      "execution_count": null,
      "outputs": []
    },
    {
      "cell_type": "code",
      "metadata": {
        "id": "CvxsizFx5Pk7"
      },
      "source": [
        "y=data.iloc[:,cols-1:cols]  # 2:3 --> 2column"
      ],
      "execution_count": null,
      "outputs": []
    },
    {
      "cell_type": "code",
      "metadata": {
        "id": "PdlZKbsX5erJ"
      },
      "source": [
        "theta = np.matrix([0,6]) #initial value of theta"
      ],
      "execution_count": null,
      "outputs": []
    },
    {
      "cell_type": "code",
      "metadata": {
        "id": "r-oOGIvR5uOM"
      },
      "source": [
        "x=np.matrix(x)"
      ],
      "execution_count": null,
      "outputs": []
    },
    {
      "cell_type": "code",
      "metadata": {
        "id": "zv-ck4rk57Nd"
      },
      "source": [
        "y=np.matrix(y)"
      ],
      "execution_count": null,
      "outputs": []
    },
    {
      "cell_type": "code",
      "metadata": {
        "colab": {
          "base_uri": "https://localhost:8080/"
        },
        "id": "eM34CK3R6u9M",
        "outputId": "2abd253e-740a-4a4f-e425-2d3ce032d7d4"
      },
      "source": [
        "x.shape, theta.shape, y.shape"
      ],
      "execution_count": null,
      "outputs": [
        {
          "output_type": "execute_result",
          "data": {
            "text/plain": [
              "((97, 2), (1, 2), (97, 1))"
            ]
          },
          "metadata": {},
          "execution_count": 16
        }
      ]
    },
    {
      "cell_type": "code",
      "metadata": {
        "id": "P02yuxS69Y2T"
      },
      "source": [
        "def computeError(x,y,theta):\n",
        "  inner = np.power(((x*theta.T)-y),2)\n",
        "  return np.sum(inner)/(2*len(x))"
      ],
      "execution_count": null,
      "outputs": []
    },
    {
      "cell_type": "code",
      "metadata": {
        "colab": {
          "base_uri": "https://localhost:8080/"
        },
        "id": "qsxpoYzo-Arl",
        "outputId": "780428a9-d012-44eb-948a-31e525ce79ab"
      },
      "source": [
        "computeError(x,y,theta)"
      ],
      "execution_count": null,
      "outputs": [
        {
          "output_type": "execute_result",
          "data": {
            "text/plain": [
              "0.632229948179241"
            ]
          },
          "metadata": {},
          "execution_count": 18
        }
      ]
    },
    {
      "cell_type": "code",
      "metadata": {
        "id": "svOMggUxOD5n"
      },
      "source": [
        "line_model=(x*theta.T)"
      ],
      "execution_count": null,
      "outputs": []
    },
    {
      "cell_type": "code",
      "metadata": {
        "colab": {
          "base_uri": "https://localhost:8080/",
          "height": 421
        },
        "id": "2nSy9EAAL71q",
        "outputId": "e2ac7f79-a78a-444d-be9c-7ee44201edd1"
      },
      "source": [
        "fig,ax = plt.subplots(figsize=(8,6))\n",
        "ax.scatter(data.Size,data.Price,label=\"Training data\")\n",
        "ax.plot(data.Size,line_model,'g',label=\"Initial Model\")\n",
        "ax.legend()\n",
        "ax.set_xlabel('Size')\n",
        "ax.set_ylabel('Price')\n",
        "ax.set_title('Initial Model Vs Data')"
      ],
      "execution_count": null,
      "outputs": [
        {
          "output_type": "execute_result",
          "data": {
            "text/plain": [
              "Text(0.5, 1.0, 'Initial Model Vs Data')"
            ]
          },
          "metadata": {},
          "execution_count": 20
        },
        {
          "output_type": "display_data",
          "data": {
            "image/png": "[encoded data removed]",
            "text/plain": [
              "<Figure size 576x432 with 1 Axes>"
            ]
          },
          "metadata": {
            "needs_background": "light"
          }
        }
      ]
    },
    {
      "cell_type": "code",
      "metadata": {
        "id": "KV1ap8dZGsT9"
      },
      "source": [
        "learn_rate=1\n",
        "iters = 350\n",
        "def gradientDescent(x,y,theta,learn_rate,iters):\n",
        "  temp = np.matrix(np.zeros(theta.shape))  # creating a temporary matrix to update the value of theta\n",
        "  parameters=theta.shape[1]   # finding number of parameters\n",
        "  cost=[]                     # creating a list to track the cost\n",
        "\n",
        "  for i in range(iters):      # for each iteration\n",
        "    error=(x*theta.T)-y       # error\n",
        "\n",
        "    for j in range(parameters):   # update the value of theta\n",
        "      gradient=np.multiply(error,x[:,j])\n",
        "      temp[0,j]=theta[0,j]-((learn_rate/len(x))*np.sum(gradient))   # assign it to\n",
        "\n",
        "    theta=temp                    # simultaneously update the vlaues of all the theta value\n",
        "    cost_iter=computeError(x,y,theta)   #find the cost of iteration\n",
        "    cost.append(cost_iter)\n",
        "  return theta, cost"
      ],
      "execution_count": null,
      "outputs": []
    },
    {
      "cell_type": "code",
      "metadata": {
        "id": "GTygZfucR_8l"
      },
      "source": [
        "final_theta,cost = gradientDescent(x,y,theta,learn_rate,iters)"
      ],
      "execution_count": null,
      "outputs": []
    },
    {
      "cell_type": "code",
      "metadata": {
        "colab": {
          "base_uri": "https://localhost:8080/"
        },
        "id": "i46xQTHwSO31",
        "outputId": "43e32628-be57-40e4-90f7-08a401a7484a"
      },
      "source": [
        "print(final_theta)"
      ],
      "execution_count": null,
      "outputs": [
        {
          "output_type": "stream",
          "name": "stdout",
          "text": [
            "[[2.73549797e-16 9.83386677e-01]]\n"
          ]
        }
      ]
    },
    {
      "cell_type": "code",
      "metadata": {
        "colab": {
          "base_uri": "https://localhost:8080/"
        },
        "id": "A7CRC4fiSS2I",
        "outputId": "ddc7bf67-f6a3-407f-cbe4-653b219d1d28"
      },
      "source": [
        "print(cost)"
      ],
      "execution_count": null,
      "outputs": [
        {
          "output_type": "stream",
          "name": "stdout",
          "text": [
            "[0.5703051140593283, 0.5144461382969397, 0.46405883863649905, 0.41860723605304234, 0.3776078534442059, 0.34062457279487657, 0.30726399610921057, 0.2771712607633973, 0.2500262647663031, 0.22554026177539255, 0.20345278964848332, 0.18352889985977064, 0.16555665830890753, 0.14934489093878497, 0.13472115018173123, 0.1215298806028428, 0.10963076422805514, 0.0988972279559027, 0.08921509717603063, 0.08048138127274912, 0.07260317809480772, 0.06549668573803141, 0.059086311128967735, 0.053303865927384654, 0.0480878411942848, 0.04338275310994624, 0.03913855278227096, 0.03531009386746378, 0.031856652340024195, 0.028741493303755705, 0.025931480235881325, 0.023396722507722695, 0.021110257432554895, 0.019047763458521366, 0.01718730145578885, 0.015509081345966022, 0.013995251591379688, 0.012629709304967193, 0.011397928960888653, 0.01028680788382235, 0.009284526873384125, 0.0083804244811071, 0.0075648836026426325, 0.006829229178842817, 0.0061656359175519615, 0.005567045054526774, 0.005027089268055652, 0.0045400249485801, 0.004100671102857637, 0.0037043542427785295, 0.0033468586726084684, 0.0030243816458533934, 0.002733492914741774, 0.0024710982420446882, 0.0022344064871021706, 0.0020208999159438343, 0.0018283074196870023, 0.0016545803563315132, 0.00149787075897589, 0.0013565116786516584, 0.0012289994526788865, 0.0011139777099281715, 0.0010102229428500982, 0.0009166314927991609, 0.0008322078102126462, 0.0007560538647658189, 0.0006873595928572775, 0.0006253942808126195, 0.0005694987921479438, 0.0005190785562131824, 0.00047359724363412977, 0.00043257106127770495, 0.0003955636060549229, 0.00036218122282053166, 0.0003320688169904275, 0.0003049060773348996, 0.00028040406876883524, 0.00025830215889578864, 0.00023836524561298046, 0.000220381256286748, 0.00020415889189672305, 0.00018952559215277355, 0.00017632569993928453, 0.000164418805561632, 0.0001536782531822966, 0.00014398979355929303, 0.00013525036875585642, 0.00012736701589411017, 0.00012025587829174007, 0.00011384131346295771, 0.00010805508849538833, 0.00010283565424396479, 9.812749062128832e-05, 9.388051602019092e-05, 9.004955458641788e-05, 8.65938556747113e-05, 8.347666037666118e-05, 8.066481050939734e-05, 7.812839590586665e-05, 7.584043625485454e-05, 7.377659410642453e-05, 7.191491598996308e-05, 7.023559889105211e-05, 6.872077960314268e-05, 6.735434471332338e-05, 6.612175920096652e-05, 6.500991182602666e-05, 6.400697566235478e-05, 6.3102282292498e-05, 6.228620832576967e-05, 6.155007303246361e-05, 6.088604600532622e-05, 6.028706386606673e-05, 5.9746755130895754e-05, 5.925937243587432e-05, 5.88197314011403e-05, 5.842315548370129e-05, 5.806542623218199e-05, 5.774273841437666e-05, 5.7451659540290345e-05, 5.718909335010806e-05, 5.6952246878706835e-05, 5.673860074636855e-05, 5.6545882359672416e-05, 5.637204173749847e-05, 5.621522970499904e-05, 5.607377822358402e-05, 5.594618264768616e-05, 5.583108571956736e-05, 5.572726313191758e-05, 5.563361050467134e-05, 5.554913163751275e-05, 5.5472927913108655e-05, 5.5404188738349595e-05, 5.53421829219213e-05, 5.528625089648722e-05, 5.523579770274896e-05, 5.5190286660754004e-05, 5.514923366113197e-05, 5.5112202015533754e-05, 5.507879781149652e-05, 5.504866572232427e-05, 5.5021485227411935e-05, 5.4996967202808485e-05, 5.497485084575185e-05, 5.4954900900462035e-05, 5.493690515568134e-05, 5.492067218734454e-05, 5.490602932236535e-05, 5.489282080188098e-05, 5.48809061244163e-05, 5.4870158551343605e-05, 5.486046375874051e-05, 5.485171862130524e-05, 5.484383011539353e-05, 5.483671432950911e-05, 5.483029557172167e-05, 5.4824505564517424e-05, 5.481928271851902e-05, 5.4814571477347616e-05, 5.4810321726659655e-05, 5.480648826107109e-05, 5.480303030329955e-05, 5.479991107040869e-05, 5.479709738254143e-05, 5.479455930997944e-05, 5.479226985477564e-05, 5.479020466357159e-05, 5.478834176854645e-05, 5.478666135374139e-05, 5.478514554427334e-05, 5.478377821619668e-05, 5.478254482498971e-05, 5.4781432250842164e-05, 5.4780428659097036e-05, 5.477952337436326e-05, 5.477870676695984e-05, 5.477797015048267e-05, 5.477730568940616e-05, 5.47767063157349e-05, 5.4776165653820344e-05, 5.477567795254165e-05, 5.477523802413017e-05, 5.477484118898602e-05, 5.477448322590041e-05, 5.4774160327153776e-05, 5.477386905801242e-05, 5.477360632019266e-05, 5.477336931890366e-05, 5.4773155533118935e-05, 5.4772962688759517e-05, 5.477278873450426e-05, 5.477263181996967e-05, 5.4772490276026764e-05, 5.4772362597046454e-05, 5.477224742488385e-05, 5.477214353443129e-05, 5.477204982058686e-05, 5.477196528649906e-05, 5.4771889032963134e-05, 5.477182024885615e-05, 5.477175820250886e-05, 5.477170223392278e-05, 5.477165174774972e-05, 5.477160620695887e-05, 5.477156512712448e-05, 5.477152807127269e-05, 5.477149464523356e-05, 5.477146449344819e-05, 5.477143729518642e-05, 5.477141276113527e-05, 5.47713906303216e-05, 5.47713706673358e-05, 5.477135265982789e-05, 5.4771336416248694e-05, 5.477132176381223e-05, 5.47713085466578e-05, 5.477129662419218e-05, 5.477128586959378e-05, 5.4771276168464055e-05, 5.477126741761028e-05, 5.4771259523947954e-05, 5.4771252403510745e-05, 5.477124598055726e-05, 5.4771240186765375e-05, 5.477123496050537e-05, 5.4771230246184634e-05, 5.477122599365607e-05, 5.477122215768471e-05, 5.4771218697466584e-05, 5.477121557619475e-05, 5.477121276066771e-05, 5.477121022093608e-05, 5.4771207929984335e-05, 5.477120586344319e-05, 5.477120399933048e-05, 5.477120231781729e-05, 5.477120080101696e-05, 5.4771199432795115e-05, 5.47711981985977e-05, 5.477119708529628e-05, 5.477119608104852e-05, 5.4771195175172026e-05, 5.477119435803085e-05, 5.47711936209329e-05, 5.477119295603749e-05, 5.477119235627203e-05, 5.4771191815256686e-05, 5.4771191327236614e-05, 5.477119088702062e-05, 5.477119048992608e-05, 5.477119013172904e-05, 5.47711898086192e-05, 5.4771189517159664e-05, 5.4771189254250124e-05, 5.477118901709389e-05, 5.477118880316835e-05, 5.477118861019796e-05, 5.477118843613002e-05, 5.4771188279112896e-05, 5.477118813747644e-05, 5.4771188009713986e-05, 5.477118789446656e-05, 5.477118779050818e-05, 5.477118769673307e-05, 5.477118761214375e-05, 5.477118753584035e-05, 5.4771187467011296e-05, 5.477118740492436e-05, 5.4771187348919196e-05, 5.477118729840005e-05, 5.47711872528295e-05, 5.4771187211722776e-05, 5.4771187174642696e-05, 5.4771187141194835e-05, 5.477118711102331e-05, 5.47711870838073e-05, 5.477118705925717e-05, 5.4771187037111935e-05, 5.477118701713589e-05, 5.47711869991166e-05, 5.477118698286243e-05, 5.4771186968200404e-05, 5.477118695497463e-05, 5.4771186943044366e-05, 5.477118693228272e-05, 5.4771186922575245e-05, 5.477118691381868e-05, 5.477118690591987e-05, 5.477118689879477e-05, 5.4771186892367624e-05, 5.477118688657004e-05, 5.477118688134034e-05, 5.4771186876622935e-05, 5.477118687236764e-05, 5.477118686852917e-05, 5.477118686506668e-05, 5.477118686194336e-05, 5.4771186859125986e-05, 5.477118685658461e-05, 5.4771186854292206e-05, 5.4771186852224294e-05, 5.4771186850358964e-05, 5.4771186848676344e-05, 5.4771186847158535e-05, 5.477118684578942e-05, 5.477118684455439e-05, 5.477118684344035e-05, 5.477118684243548e-05, 5.477118684152902e-05, 5.4771186840711354e-05, 5.4771186839973765e-05, 5.4771186839308444e-05, 5.4771186838708284e-05, 5.477118683816691e-05, 5.4771186837678556e-05, 5.477118683723807e-05, 5.4771186836840725e-05, 5.4771186836482274e-05, 5.4771186836158965e-05, 5.477118683586731e-05, 5.47711868356042e-05, 5.477118683536691e-05, 5.4771186835152866e-05, 5.477118683495978e-05, 5.4771186834785566e-05, 5.477118683462844e-05, 5.477118683448669e-05, 5.477118683435888e-05, 5.4771186834243546e-05, 5.477118683413953e-05, 5.4771186834045666e-05, 5.477118683396105e-05, 5.4771186833884695e-05, 5.477118683381581e-05, 5.477118683375367e-05, 5.477118683369763e-05, 5.477118683364712e-05, 5.47711868336015e-05, 5.4771186833560356e-05, 5.477118683352322e-05, 5.477118683348979e-05, 5.47711868334596e-05, 5.477118683343235e-05, 5.477118683340779e-05, 5.477118683338566e-05, 5.477118683336563e-05, 5.477118683334763e-05, 5.477118683333138e-05, 5.477118683331668e-05]\n"
          ]
        }
      ]
    },
    {
      "cell_type": "code",
      "metadata": {
        "id": "nf-FRcL1XHOz"
      },
      "source": [
        "final_model=x*final_theta.T"
      ],
      "execution_count": null,
      "outputs": []
    },
    {
      "cell_type": "code",
      "metadata": {
        "colab": {
          "base_uri": "https://localhost:8080/",
          "height": 421
        },
        "id": "S5SqQgfmXOu-",
        "outputId": "9f94c967-05cf-4dd1-f6b6-8cf3d996808c"
      },
      "source": [
        "fig,ax = plt.subplots(figsize=(8,6))\n",
        "ax.scatter(data.Size,data.Price,label=\"Training data\")\n",
        "ax.plot(data.Size,final_model,'r',label=\"Final Model\")\n",
        "ax.legend()\n",
        "ax.set_xlabel('Size')\n",
        "ax.set_ylabel('Price')\n",
        "ax.set_title('Final_model Vs Training Data')"
      ],
      "execution_count": null,
      "outputs": [
        {
          "output_type": "execute_result",
          "data": {
            "text/plain": [
              "Text(0.5, 1.0, 'Final_model Vs Training Data')"
            ]
          },
          "metadata": {},
          "execution_count": 26
        },
        {
          "output_type": "display_data",
          "data": {
            "image/png": "[encoded data removed]",
            "text/plain": [
              "<Figure size 576x432 with 1 Axes>"
            ]
          },
          "metadata": {
            "needs_background": "light"
          }
        }
      ]
    },
    {
      "cell_type": "code",
      "metadata": {
        "colab": {
          "base_uri": "https://localhost:8080/"
        },
        "id": "Dc_dRx-ffN_r",
        "outputId": "b1a6c885-4770-4210-9f79-b8e0756a3785"
      },
      "source": [
        "from sklearn.metrics import mean_absolute_error\n",
        "Error=mean_absolute_error(final_model,y)\n",
        "Accuracy=1-Error\n",
        "\n",
        "print('Error={} %'.format((round(Error*100,2))))\n",
        "print('Accuracy={} %'.format((round(Accuracy*100,2))))"
      ],
      "execution_count": null,
      "outputs": [
        {
          "output_type": "stream",
          "name": "stdout",
          "text": [
            "Error=0.94 %\n",
            "Accuracy=99.06 %\n"
          ]
        }
      ]
    },
    {
      "cell_type": "code",
      "metadata": {
        "id": "Fk8Dry0pgVAu"
      },
      "source": [
        "def predict(final_theta,accuracy):\n",
        "  size=float(input(\"Enter the size of hte house in Sqt:\"))\n",
        "  size=(size-raw_data.Size.mean())/(raw_data.Size.max()-raw_data.Size.min())\n",
        "  price=(final_theta[0,0]+(final_theta[0,1]*size))\n",
        "  Predicted_price = (price*(raw_data.Price.max()-raw_data.Price.min()))+(raw_data.Price.mean())\n",
        "  Price_at_max_Accuracy = (Predicted_price*(1/accuracy))\n",
        "  Price_range=Price_at_max_Accuracy - Predicted_price\n",
        "  return Predicted_price, Price_range\n"
      ],
      "execution_count": null,
      "outputs": []
    },
    {
      "cell_type": "code",
      "metadata": {
        "colab": {
          "base_uri": "https://localhost:8080/"
        },
        "id": "m2bIoG5HjBEY",
        "outputId": "bd4d163d-dc2c-4670-b53b-ca46a8c0fec1"
      },
      "source": [
        "Predicted_price, Price_range = predict(final_theta,Accuracy)\n",
        "print('Your house cost is '+str(round(Predicted_price*(1/100000), 2))+' Lakhs (+ or -) '+str(round(Price_range, 2)))"
      ],
      "execution_count": null,
      "outputs": [
        {
          "output_type": "stream",
          "name": "stdout",
          "text": [
            "Enter the size of hte house in Sqt:960\n",
            "Your house cost is 26.51 Lakhs (+ or -) 25287.99\n"
          ]
        }
      ]
    }
  ]
}